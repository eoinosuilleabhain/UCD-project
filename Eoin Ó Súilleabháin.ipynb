{
 "cells": [
  {
   "cell_type": "markdown",
   "id": "3ffcb73a",
   "metadata": {},
   "source": [
    "     GIT HUB URL\n",
    "\n",
    "     'GitHub acc': 'https://github.com/eoinosuilleabhain'"
   ]
  },
  {
   "cell_type": "markdown",
   "id": "931805dd",
   "metadata": {},
   "source": [
    "    INTRODUCTION\n",
    "    For my project assignment I chose the English premier League 2000 to 2018 and player transfers in that period.\n",
    "    I have a lifelong interest in sport both as a spectator and as participant and I selected the English Premier League    because it is of interest to many people and I thought the results might be interesting to tabulate and visualise. \n",
    "    DATASET\n",
    "    I obtained 2 datasets from Kaggle as follows:\n",
    "    Final dataset\n",
    "    Football_transfers_top250-00-19\n"
   ]
  },
  {
   "cell_type": "markdown",
   "id": "062c93d9",
   "metadata": {},
   "source": [
    "#####    Implementation process\n",
    "    In summary:\n",
    "    I imported and installed relevant programs\n",
    "    I included 2 dictionaries with information to reference later in project.\n",
    "    I read the first csv file in (final dataset). I had difficulties with format of date on this file. On speaking to people in the field I now understand this can be a bit of a minefield! I requested some assistance on this point on 12/2/22 but I understand it is probably not cricket in these matters to influence results and so on. When I attempted to merge it with the transfers dataset all the information did not transfer across.\n",
    "    I subsequently merged my second dataset regarding transfers with one of my dictionaries after creating a dataframe from our dictionary. I plotted this and garnered some interesting results. \n",
    "    * I performed rudimentary analysis of files, \n",
    "    * created new columns, \n",
    "    * attempted to format dates,  \n",
    "    * used a function to get points result of each game,\n",
    "    * Reviewed and plotted goals scored at home and away and how that impacted results.\n",
    "    * Saw was there any correlation between high money transfers and success.\n",
    "    * Constructed a web scraping program in order to extract data on transfers (is up-to-date). \n",
    "    * Observations made at end of report.\n",
    "\n",
    "    I tried to pick a few areas and tease them out.\n"
   ]
  },
  {
   "cell_type": "code",
   "execution_count": 35,
   "id": "15443138",
   "metadata": {},
   "outputs": [
    {
     "name": "stdout",
     "output_type": "stream",
     "text": [
      "Requirement already satisfied: seaborn in /srv/conda/envs/notebook/lib/python3.6/site-packages (0.11.2)\r\n",
      "Requirement already satisfied: matplotlib>=2.2 in /srv/conda/envs/notebook/lib/python3.6/site-packages (from seaborn) (3.3.4)\r\n",
      "Requirement already satisfied: numpy>=1.15 in /srv/conda/envs/notebook/lib/python3.6/site-packages (from seaborn) (1.19.5)\r\n",
      "Requirement already satisfied: pandas>=0.23 in /srv/conda/envs/notebook/lib/python3.6/site-packages (from seaborn) (1.1.5)\r\n",
      "Requirement already satisfied: scipy>=1.0 in /srv/conda/envs/notebook/lib/python3.6/site-packages (from seaborn) (1.5.3)\r\n",
      "Requirement already satisfied: cycler>=0.10 in /srv/conda/envs/notebook/lib/python3.6/site-packages (from matplotlib>=2.2->seaborn) (0.11.0)\r\n",
      "Requirement already satisfied: pyparsing!=2.0.4,!=2.1.2,!=2.1.6,>=2.0.3 in /srv/conda/envs/notebook/lib/python3.6/site-packages (from matplotlib>=2.2->seaborn) (3.0.7)\r\n",
      "Requirement already satisfied: pillow>=6.2.0 in /srv/conda/envs/notebook/lib/python3.6/site-packages (from matplotlib>=2.2->seaborn) (8.3.2)\r\n",
      "Requirement already satisfied: kiwisolver>=1.0.1 in /srv/conda/envs/notebook/lib/python3.6/site-packages (from matplotlib>=2.2->seaborn) (1.3.1)\r\n",
      "Requirement already satisfied: python-dateutil>=2.1 in /srv/conda/envs/notebook/lib/python3.6/site-packages (from matplotlib>=2.2->seaborn) (2.8.2)\r\n",
      "Requirement already satisfied: pytz>=2017.2 in /srv/conda/envs/notebook/lib/python3.6/site-packages (from pandas>=0.23->seaborn) (2021.3)\r\n",
      "Requirement already satisfied: six>=1.5 in /srv/conda/envs/notebook/lib/python3.6/site-packages (from python-dateutil>=2.1->matplotlib>=2.2->seaborn) (1.16.0)\r\n"
     ]
    }
   ],
   "source": [
    "! pip install seaborn\n",
    "\n"
   ]
  },
  {
   "cell_type": "code",
   "execution_count": 36,
   "id": "5b54ac67",
   "metadata": {},
   "outputs": [],
   "source": [
    "import pandas as pd\n",
    "import numpy as np\n",
    "import matplotlib.pyplot as plt\n",
    "import seaborn as sns\n",
    "from datetime import datetime"
   ]
  },
  {
   "cell_type": "code",
   "execution_count": 5,
   "id": "b45e108b",
   "metadata": {},
   "outputs": [],
   "source": [
    "UCDproject = {'Author': 'Eoin ó Súilleabháin', 'Email': 'eoinosuilleabhain@hotmail.com', \n",
    "              'GitHub acc': 'https://github.com/eoinosuilleabhain', 'Deadline': '17 Feb 2022'}\n"
   ]
  },
  {
   "cell_type": "code",
   "execution_count": 6,
   "id": "fe1622d3",
   "metadata": {},
   "outputs": [],
   "source": [
    "PLW={'2000_01': 'Man United', '2001_02': 'Arsenal', '2002_03': 'Man United', '2003_04': 'Arsenal', \n",
    "                               '2004_05': 'Chelsea', '2005_06': 'Chelsea', '2006_07': 'Man United', '2007_08': 'Man United',\n",
    "                                '2008_09': 'Man United', '2009_10': 'Chelsea', '2010_11': 'Man United', '2011_12': 'Man City',\n",
    "                                '2012_13': 'Man United', '2013_14': 'Man City', '2014_15': 'Chelsea', '2015_16': 'Leicester',\n",
    "                                '2016_17': 'Chelsea', '2017_18': 'Man City'}\n"
   ]
  },
  {
   "cell_type": "markdown",
   "id": "680359c4",
   "metadata": {},
   "source": [
    "    WEB SCRAPING USING PYTHON)\n",
    "    Here I used Transfermarkt to get the required information about football transfers.\n",
    "    I created a script to: \n",
    "    * get the latest transfer data.\n",
    "    * obtain information (goals, assists, cards, etc.) about players\n",
    "    * create a graphic representation through the scraped data\n",
    "    * scrape the data\n",
    "    * the information was read from the table, and saved in a csv file using BeautifulSoup, which is a library that pulls data out of HTML and XML files, (in our case HTML). With bs4 it’s possible to transform rows and columns of a table into a Python list of dictionaries.\n",
    "    To start with relevant libraries were imported.\n",
    "    Request made to the web address\n",
    "    Used BeautifulSoup to pull data from HTML\n",
    "    Csv to put the data in the csv file\n",
    "    Utlised Re to handle regex\n",
    "    Then created some functions to help throughout the application. Starting with data_to_csv which receives a list to save a csv output file.\n",
    "    Also have the format_text function that takes a string and remove some chars like double with spaces or escape sequences.\n",
    "    Then a function to handle with the currency.\n",
    "    And finally our function responsible for accessing the pages, transform the HTML in a soup object, look for an element with the responsive-table class, so iterate all the even and odd classes to get the ‘tds’ or cell and then create a dictionary with the information we need, appending the various players to the players_list and finally return on line 46. \n",
    "    Then we run the script saying that we want to browse the first 10 pages, remembering that each page displays 25 players, we’ll have 250 players in all. \n",
    "    So, we send the dictionary to the function data_to_csv responsible for saving the data in a csv file.\n",
    "    I have uploaded the jupyter notebook separately to GitHub.\n"
   ]
  },
  {
   "cell_type": "markdown",
   "id": "44a13b22",
   "metadata": {},
   "source": [
    "    READ IN CSV FILE"
   ]
  },
  {
   "cell_type": "code",
   "execution_count": 7,
   "id": "4c680982",
   "metadata": {},
   "outputs": [],
   "source": [
    "df=pd.read_csv('final_dataset.csv.zip', parse_dates=True)"
   ]
  },
  {
   "cell_type": "markdown",
   "id": "4f0877ef",
   "metadata": {},
   "source": [
    "    Convert dates into correct format (datetime64[ns]):"
   ]
  },
  {
   "cell_type": "code",
   "execution_count": 8,
   "id": "a78ec6e7",
   "metadata": {},
   "outputs": [],
   "source": [
    "df['Date']=pd.to_datetime(df.Date)"
   ]
  },
  {
   "cell_type": "code",
   "execution_count": 9,
   "id": "0ad954cf",
   "metadata": {},
   "outputs": [],
   "source": [
    "df['New_Date'] = pd.to_datetime(df.Date, format = '%d/%m/%y', errors = 'coerce')\n",
    "fil = df.New_Date.isnull()\n",
    "df.loc[fil, 'New_Date'] = pd.to_datetime(df[fil]['Date'], errors = 'coerce')\n"
   ]
  },
  {
   "cell_type": "markdown",
   "id": "1b26148c",
   "metadata": {},
   "source": [
    "     I have done some basic analysis of main dataset:¶"
   ]
  },
  {
   "cell_type": "code",
   "execution_count": 10,
   "id": "15d5746e",
   "metadata": {},
   "outputs": [
    {
     "data": {
      "text/plain": [
       "Unnamed: 0                int64\n",
       "Date             datetime64[ns]\n",
       "HomeTeam                 object\n",
       "AwayTeam                 object\n",
       "FTHG                      int64\n",
       "FTAG                      int64\n",
       "FTR                      object\n",
       "HTGS                      int64\n",
       "ATGS                      int64\n",
       "HTGC                      int64\n",
       "ATGC                      int64\n",
       "HTP                     float64\n",
       "ATP                     float64\n",
       "HM1                      object\n",
       "HM2                      object\n",
       "HM3                      object\n",
       "HM4                      object\n",
       "HM5                      object\n",
       "AM1                      object\n",
       "AM2                      object\n",
       "AM3                      object\n",
       "AM4                      object\n",
       "AM5                      object\n",
       "MW                      float64\n",
       "HTFormPtsStr             object\n",
       "ATFormPtsStr             object\n",
       "HTFormPts                 int64\n",
       "ATFormPts                 int64\n",
       "HTWinStreak3              int64\n",
       "HTWinStreak5              int64\n",
       "HTLossStreak3             int64\n",
       "HTLossStreak5             int64\n",
       "ATWinStreak3              int64\n",
       "ATWinStreak5              int64\n",
       "ATLossStreak3             int64\n",
       "ATLossStreak5             int64\n",
       "HTGD                    float64\n",
       "ATGD                    float64\n",
       "DiffPts                 float64\n",
       "DiffFormPts             float64\n",
       "New_Date         datetime64[ns]\n",
       "dtype: object"
      ]
     },
     "execution_count": 10,
     "metadata": {},
     "output_type": "execute_result"
    }
   ],
   "source": [
    "df.dtypes"
   ]
  },
  {
   "cell_type": "code",
   "execution_count": 37,
   "id": "6fd6474d",
   "metadata": {},
   "outputs": [
    {
     "data": {
      "text/plain": [
       "(6840, 46)"
      ]
     },
     "execution_count": 37,
     "metadata": {},
     "output_type": "execute_result"
    }
   ],
   "source": [
    "df.shape"
   ]
  },
  {
   "cell_type": "markdown",
   "id": "71085f12",
   "metadata": {},
   "source": [
    "    So there are 6,840 rows and 40 columns in df\n",
    "    Let's look at all columns and their data types:\n"
   ]
  },
  {
   "cell_type": "code",
   "execution_count": 40,
   "id": "a19362d5",
   "metadata": {},
   "outputs": [
    {
     "name": "stdout",
     "output_type": "stream",
     "text": [
      "<class 'pandas.core.frame.DataFrame'>\n",
      "RangeIndex: 6840 entries, 0 to 6839\n",
      "Data columns (total 46 columns):\n",
      " #   Column           Non-Null Count  Dtype         \n",
      "---  ------           --------------  -----         \n",
      " 0   Unnamed: 0       6840 non-null   int64         \n",
      " 1   Date             6840 non-null   datetime64[ns]\n",
      " 2   HomeTeam         6840 non-null   object        \n",
      " 3   AwayTeam         6840 non-null   object        \n",
      " 4   FTHG             6840 non-null   int64         \n",
      " 5   FTAG             6840 non-null   int64         \n",
      " 6   FTR              6840 non-null   object        \n",
      " 7   HTGS             6840 non-null   int64         \n",
      " 8   ATGS             6840 non-null   int64         \n",
      " 9   HTGC             6840 non-null   int64         \n",
      " 10  ATGC             6840 non-null   int64         \n",
      " 11  HTP              6840 non-null   float64       \n",
      " 12  ATP              6840 non-null   float64       \n",
      " 13  HM1              6840 non-null   object        \n",
      " 14  HM2              6840 non-null   object        \n",
      " 15  HM3              6840 non-null   object        \n",
      " 16  HM4              6840 non-null   object        \n",
      " 17  HM5              6840 non-null   object        \n",
      " 18  AM1              6840 non-null   object        \n",
      " 19  AM2              6840 non-null   object        \n",
      " 20  AM3              6840 non-null   object        \n",
      " 21  AM4              6840 non-null   object        \n",
      " 22  AM5              6840 non-null   object        \n",
      " 23  MW               6840 non-null   float64       \n",
      " 24  HTFormPtsStr     6840 non-null   object        \n",
      " 25  ATFormPtsStr     6840 non-null   object        \n",
      " 26  HTFormPts        6840 non-null   int64         \n",
      " 27  ATFormPts        6840 non-null   int64         \n",
      " 28  HTWinStreak3     6840 non-null   int64         \n",
      " 29  HTWinStreak5     6840 non-null   int64         \n",
      " 30  HTLossStreak3    6840 non-null   int64         \n",
      " 31  HTLossStreak5    6840 non-null   int64         \n",
      " 32  ATWinStreak3     6840 non-null   int64         \n",
      " 33  ATWinStreak5     6840 non-null   int64         \n",
      " 34  ATLossStreak3    6840 non-null   int64         \n",
      " 35  ATLossStreak5    6840 non-null   int64         \n",
      " 36  HTGD             6840 non-null   float64       \n",
      " 37  ATGD             6840 non-null   float64       \n",
      " 38  DiffPts          6840 non-null   float64       \n",
      " 39  DiffFormPts      6840 non-null   float64       \n",
      " 40  New_Date         6840 non-null   datetime64[ns]\n",
      " 41  score_diff       6840 non-null   int64         \n",
      " 42  Points_home      6840 non-null   int64         \n",
      " 43  score_diff_away  6840 non-null   int64         \n",
      " 44  Points_away      6840 non-null   int64         \n",
      " 45  Total Points     6840 non-null   int64         \n",
      "dtypes: datetime64[ns](2), float64(7), int64(22), object(15)\n",
      "memory usage: 2.4+ MB\n"
     ]
    },
    {
     "data": {
      "text/html": [
       "<div>\n",
       "<style scoped>\n",
       "    .dataframe tbody tr th:only-of-type {\n",
       "        vertical-align: middle;\n",
       "    }\n",
       "\n",
       "    .dataframe tbody tr th {\n",
       "        vertical-align: top;\n",
       "    }\n",
       "\n",
       "    .dataframe thead th {\n",
       "        text-align: right;\n",
       "    }\n",
       "</style>\n",
       "<table border=\"1\" class=\"dataframe\">\n",
       "  <thead>\n",
       "    <tr style=\"text-align: right;\">\n",
       "      <th></th>\n",
       "      <th>Unnamed: 0</th>\n",
       "      <th>FTHG</th>\n",
       "      <th>FTAG</th>\n",
       "      <th>HTGS</th>\n",
       "      <th>ATGS</th>\n",
       "      <th>HTGC</th>\n",
       "      <th>ATGC</th>\n",
       "      <th>HTP</th>\n",
       "      <th>ATP</th>\n",
       "      <th>MW</th>\n",
       "      <th>...</th>\n",
       "      <th>ATLossStreak5</th>\n",
       "      <th>HTGD</th>\n",
       "      <th>ATGD</th>\n",
       "      <th>DiffPts</th>\n",
       "      <th>DiffFormPts</th>\n",
       "      <th>score_diff</th>\n",
       "      <th>Points_home</th>\n",
       "      <th>score_diff_away</th>\n",
       "      <th>Points_away</th>\n",
       "      <th>Total Points</th>\n",
       "    </tr>\n",
       "  </thead>\n",
       "  <tbody>\n",
       "    <tr>\n",
       "      <th>count</th>\n",
       "      <td>6840.000000</td>\n",
       "      <td>6840.000000</td>\n",
       "      <td>6840.000000</td>\n",
       "      <td>6840.000000</td>\n",
       "      <td>6840.000000</td>\n",
       "      <td>6840.000000</td>\n",
       "      <td>6840.000000</td>\n",
       "      <td>6840.000000</td>\n",
       "      <td>6840.000000</td>\n",
       "      <td>6840.000000</td>\n",
       "      <td>...</td>\n",
       "      <td>6840.000000</td>\n",
       "      <td>6840.000000</td>\n",
       "      <td>6840.000000</td>\n",
       "      <td>6840.000000</td>\n",
       "      <td>6840.000000</td>\n",
       "      <td>6840.000000</td>\n",
       "      <td>6840.000000</td>\n",
       "      <td>6840.000000</td>\n",
       "      <td>6840.000000</td>\n",
       "      <td>6840.000000</td>\n",
       "    </tr>\n",
       "    <tr>\n",
       "      <th>mean</th>\n",
       "      <td>3419.500000</td>\n",
       "      <td>1.527485</td>\n",
       "      <td>1.130263</td>\n",
       "      <td>24.416667</td>\n",
       "      <td>24.514327</td>\n",
       "      <td>24.497807</td>\n",
       "      <td>24.347515</td>\n",
       "      <td>1.209014</td>\n",
       "      <td>1.226768</td>\n",
       "      <td>19.500000</td>\n",
       "      <td>...</td>\n",
       "      <td>0.010234</td>\n",
       "      <td>-0.009690</td>\n",
       "      <td>0.014539</td>\n",
       "      <td>-0.017755</td>\n",
       "      <td>-0.018086</td>\n",
       "      <td>0.397222</td>\n",
       "      <td>1.648977</td>\n",
       "      <td>-0.397222</td>\n",
       "      <td>1.095029</td>\n",
       "      <td>2.744006</td>\n",
       "    </tr>\n",
       "    <tr>\n",
       "      <th>std</th>\n",
       "      <td>1974.682253</td>\n",
       "      <td>1.297913</td>\n",
       "      <td>1.124566</td>\n",
       "      <td>17.178524</td>\n",
       "      <td>17.136894</td>\n",
       "      <td>16.401571</td>\n",
       "      <td>16.341557</td>\n",
       "      <td>0.530186</td>\n",
       "      <td>0.523176</td>\n",
       "      <td>10.966658</td>\n",
       "      <td>...</td>\n",
       "      <td>0.100651</td>\n",
       "      <td>0.693593</td>\n",
       "      <td>0.692937</td>\n",
       "      <td>0.668523</td>\n",
       "      <td>0.408488</td>\n",
       "      <td>1.763704</td>\n",
       "      <td>1.309988</td>\n",
       "      <td>1.763704</td>\n",
       "      <td>1.254687</td>\n",
       "      <td>0.436450</td>\n",
       "    </tr>\n",
       "    <tr>\n",
       "      <th>min</th>\n",
       "      <td>0.000000</td>\n",
       "      <td>0.000000</td>\n",
       "      <td>0.000000</td>\n",
       "      <td>0.000000</td>\n",
       "      <td>0.000000</td>\n",
       "      <td>0.000000</td>\n",
       "      <td>0.000000</td>\n",
       "      <td>0.000000</td>\n",
       "      <td>0.000000</td>\n",
       "      <td>1.000000</td>\n",
       "      <td>...</td>\n",
       "      <td>0.000000</td>\n",
       "      <td>-3.000000</td>\n",
       "      <td>-3.333333</td>\n",
       "      <td>-2.363636</td>\n",
       "      <td>-2.250000</td>\n",
       "      <td>-6.000000</td>\n",
       "      <td>0.000000</td>\n",
       "      <td>-8.000000</td>\n",
       "      <td>0.000000</td>\n",
       "      <td>2.000000</td>\n",
       "    </tr>\n",
       "    <tr>\n",
       "      <th>25%</th>\n",
       "      <td>1709.750000</td>\n",
       "      <td>1.000000</td>\n",
       "      <td>0.000000</td>\n",
       "      <td>11.000000</td>\n",
       "      <td>11.000000</td>\n",
       "      <td>11.000000</td>\n",
       "      <td>11.000000</td>\n",
       "      <td>0.888889</td>\n",
       "      <td>0.906250</td>\n",
       "      <td>10.000000</td>\n",
       "      <td>...</td>\n",
       "      <td>0.000000</td>\n",
       "      <td>-0.500000</td>\n",
       "      <td>-0.464286</td>\n",
       "      <td>-0.451613</td>\n",
       "      <td>-0.176471</td>\n",
       "      <td>-1.000000</td>\n",
       "      <td>0.000000</td>\n",
       "      <td>-1.000000</td>\n",
       "      <td>0.000000</td>\n",
       "      <td>2.000000</td>\n",
       "    </tr>\n",
       "    <tr>\n",
       "      <th>50%</th>\n",
       "      <td>3419.500000</td>\n",
       "      <td>1.000000</td>\n",
       "      <td>1.000000</td>\n",
       "      <td>23.000000</td>\n",
       "      <td>23.000000</td>\n",
       "      <td>23.000000</td>\n",
       "      <td>23.000000</td>\n",
       "      <td>1.172414</td>\n",
       "      <td>1.192308</td>\n",
       "      <td>19.500000</td>\n",
       "      <td>...</td>\n",
       "      <td>0.000000</td>\n",
       "      <td>-0.076923</td>\n",
       "      <td>-0.050000</td>\n",
       "      <td>0.000000</td>\n",
       "      <td>0.000000</td>\n",
       "      <td>0.000000</td>\n",
       "      <td>1.000000</td>\n",
       "      <td>0.000000</td>\n",
       "      <td>1.000000</td>\n",
       "      <td>3.000000</td>\n",
       "    </tr>\n",
       "    <tr>\n",
       "      <th>75%</th>\n",
       "      <td>5129.250000</td>\n",
       "      <td>2.000000</td>\n",
       "      <td>2.000000</td>\n",
       "      <td>35.000000</td>\n",
       "      <td>35.000000</td>\n",
       "      <td>36.000000</td>\n",
       "      <td>36.000000</td>\n",
       "      <td>1.555556</td>\n",
       "      <td>1.562500</td>\n",
       "      <td>29.000000</td>\n",
       "      <td>...</td>\n",
       "      <td>0.000000</td>\n",
       "      <td>0.400000</td>\n",
       "      <td>0.421053</td>\n",
       "      <td>0.428571</td>\n",
       "      <td>0.153846</td>\n",
       "      <td>1.000000</td>\n",
       "      <td>3.000000</td>\n",
       "      <td>1.000000</td>\n",
       "      <td>3.000000</td>\n",
       "      <td>3.000000</td>\n",
       "    </tr>\n",
       "    <tr>\n",
       "      <th>max</th>\n",
       "      <td>6839.000000</td>\n",
       "      <td>9.000000</td>\n",
       "      <td>7.000000</td>\n",
       "      <td>102.000000</td>\n",
       "      <td>105.000000</td>\n",
       "      <td>85.000000</td>\n",
       "      <td>82.000000</td>\n",
       "      <td>2.736842</td>\n",
       "      <td>2.761905</td>\n",
       "      <td>38.000000</td>\n",
       "      <td>...</td>\n",
       "      <td>1.000000</td>\n",
       "      <td>4.000000</td>\n",
       "      <td>3.500000</td>\n",
       "      <td>2.285714</td>\n",
       "      <td>2.250000</td>\n",
       "      <td>8.000000</td>\n",
       "      <td>3.000000</td>\n",
       "      <td>6.000000</td>\n",
       "      <td>3.000000</td>\n",
       "      <td>3.000000</td>\n",
       "    </tr>\n",
       "  </tbody>\n",
       "</table>\n",
       "<p>8 rows × 29 columns</p>\n",
       "</div>"
      ],
      "text/plain": [
       "        Unnamed: 0         FTHG         FTAG         HTGS         ATGS  \\\n",
       "count  6840.000000  6840.000000  6840.000000  6840.000000  6840.000000   \n",
       "mean   3419.500000     1.527485     1.130263    24.416667    24.514327   \n",
       "std    1974.682253     1.297913     1.124566    17.178524    17.136894   \n",
       "min       0.000000     0.000000     0.000000     0.000000     0.000000   \n",
       "25%    1709.750000     1.000000     0.000000    11.000000    11.000000   \n",
       "50%    3419.500000     1.000000     1.000000    23.000000    23.000000   \n",
       "75%    5129.250000     2.000000     2.000000    35.000000    35.000000   \n",
       "max    6839.000000     9.000000     7.000000   102.000000   105.000000   \n",
       "\n",
       "              HTGC         ATGC          HTP          ATP           MW  ...  \\\n",
       "count  6840.000000  6840.000000  6840.000000  6840.000000  6840.000000  ...   \n",
       "mean     24.497807    24.347515     1.209014     1.226768    19.500000  ...   \n",
       "std      16.401571    16.341557     0.530186     0.523176    10.966658  ...   \n",
       "min       0.000000     0.000000     0.000000     0.000000     1.000000  ...   \n",
       "25%      11.000000    11.000000     0.888889     0.906250    10.000000  ...   \n",
       "50%      23.000000    23.000000     1.172414     1.192308    19.500000  ...   \n",
       "75%      36.000000    36.000000     1.555556     1.562500    29.000000  ...   \n",
       "max      85.000000    82.000000     2.736842     2.761905    38.000000  ...   \n",
       "\n",
       "       ATLossStreak5         HTGD         ATGD      DiffPts  DiffFormPts  \\\n",
       "count    6840.000000  6840.000000  6840.000000  6840.000000  6840.000000   \n",
       "mean        0.010234    -0.009690     0.014539    -0.017755    -0.018086   \n",
       "std         0.100651     0.693593     0.692937     0.668523     0.408488   \n",
       "min         0.000000    -3.000000    -3.333333    -2.363636    -2.250000   \n",
       "25%         0.000000    -0.500000    -0.464286    -0.451613    -0.176471   \n",
       "50%         0.000000    -0.076923    -0.050000     0.000000     0.000000   \n",
       "75%         0.000000     0.400000     0.421053     0.428571     0.153846   \n",
       "max         1.000000     4.000000     3.500000     2.285714     2.250000   \n",
       "\n",
       "        score_diff  Points_home  score_diff_away  Points_away  Total Points  \n",
       "count  6840.000000  6840.000000      6840.000000  6840.000000   6840.000000  \n",
       "mean      0.397222     1.648977        -0.397222     1.095029      2.744006  \n",
       "std       1.763704     1.309988         1.763704     1.254687      0.436450  \n",
       "min      -6.000000     0.000000        -8.000000     0.000000      2.000000  \n",
       "25%      -1.000000     0.000000        -1.000000     0.000000      2.000000  \n",
       "50%       0.000000     1.000000         0.000000     1.000000      3.000000  \n",
       "75%       1.000000     3.000000         1.000000     3.000000      3.000000  \n",
       "max       8.000000     3.000000         6.000000     3.000000      3.000000  \n",
       "\n",
       "[8 rows x 29 columns]"
      ]
     },
     "execution_count": 40,
     "metadata": {},
     "output_type": "execute_result"
    }
   ],
   "source": [
    "df.info()\n",
    "df.describe()"
   ]
  },
  {
   "cell_type": "markdown",
   "id": "34827c6f",
   "metadata": {},
   "source": [
    "    Above we have various stats, mean, standard deviation etc for all columns.\n",
    "     Later, I will concentrate on columns relating to matches won/lost and goals scored.\n"
   ]
  },
  {
   "cell_type": "markdown",
   "id": "107b1af3",
   "metadata": {},
   "source": [
    "    df.head() and df.tail() give a handy synopsis of dataset, column and top 5 and bottom 5 rows respectively."
   ]
  },
  {
   "cell_type": "markdown",
   "id": "1359a014",
   "metadata": {},
   "source": [
    "    Create a new column 'Points_home' to show 3 points for a win, 1 for a draw and 0 for a loss."
   ]
  },
  {
   "cell_type": "code",
   "execution_count": 38,
   "id": "75872a38",
   "metadata": {},
   "outputs": [],
   "source": [
    "df['score_diff']=df['FTHG']-df['FTAG']\n",
    "def foo(row):\n",
    "    if row.score_diff>=1:\n",
    "        return 3\n",
    "    elif row.score_diff<0:\n",
    "        return 0\n",
    "    else:\n",
    "        return 1\n",
    "df['Points_home'] = df.apply(foo, axis=1)\n"
   ]
  },
  {
   "cell_type": "markdown",
   "id": "578c7ece",
   "metadata": {},
   "source": [
    "    Create a new column 'Points_away' to show 3 points for an away win, draw is covered in above."
   ]
  },
  {
   "cell_type": "code",
   "execution_count": 39,
   "id": "7def385b",
   "metadata": {},
   "outputs": [],
   "source": [
    "df['score_diff_away']=df['FTAG']-df['FTHG']\n",
    "def foo(row):\n",
    "    if row.score_diff_away>=1:\n",
    "        return 3\n",
    "    elif row.score_diff_away<0:\n",
    "        return 0\n",
    "    else:\n",
    "        return 1\n",
    "df['Points_away'] = df.apply(foo, axis=1)\n"
   ]
  },
  {
   "cell_type": "markdown",
   "id": "44b9d144",
   "metadata": {},
   "source": [
    "    Add both columns to give total points taking where a club is home or away:"
   ]
  },
  {
   "cell_type": "code",
   "execution_count": 13,
   "id": "1fa10280",
   "metadata": {},
   "outputs": [],
   "source": [
    "df['Total Points']=df['Points_home']+df['Points_away']"
   ]
  },
  {
   "cell_type": "code",
   "execution_count": 14,
   "id": "5bd68fb2",
   "metadata": {},
   "outputs": [
    {
     "data": {
      "text/plain": [
       "HomeTeam\n",
       "Bradford              26\n",
       "Cardiff               30\n",
       "Coventry              34\n",
       "Huddersfield          37\n",
       "Sheffield United      38\n",
       "Blackpool             39\n",
       "Brighton              40\n",
       "Middlesboro           49\n",
       "Derby                 83\n",
       "QPR                   92\n",
       "Ipswich              102\n",
       "Reading              119\n",
       "Bournemouth          132\n",
       "Wolves               136\n",
       "Watford              154\n",
       "Burnley              157\n",
       "Hull                 171\n",
       "Norwich              191\n",
       "Leeds                214\n",
       "Crystal Palace       253\n",
       "Birmingham           301\n",
       "Portsmouth           302\n",
       "Swansea              312\n",
       "Leicester            322\n",
       "Charlton             325\n",
       "Wigan                331\n",
       "Middlesbrough        383\n",
       "Stoke                457\n",
       "West Brom            464\n",
       "Bolton               506\n",
       "Sunderland           520\n",
       "Blackburn            530\n",
       "Southampton          530\n",
       "Fulham               586\n",
       "West Ham             683\n",
       "Aston Villa          750\n",
       "Newcastle            790\n",
       "Everton              990\n",
       "Man City            1082\n",
       "Tottenham           1107\n",
       "Liverpool           1234\n",
       "Arsenal             1347\n",
       "Chelsea             1386\n",
       "Man United          1434\n",
       "dtype: int64"
      ]
     },
     "execution_count": 14,
     "metadata": {},
     "output_type": "execute_result"
    }
   ],
   "source": [
    "df_new = df.groupby('HomeTeam')['Points_home'].sum() + df.groupby('AwayTeam')['Points_away'].sum()\n",
    "df_new.sort_values()\n"
   ]
  },
  {
   "cell_type": "markdown",
   "id": "96a55ae7",
   "metadata": {},
   "source": [
    "    REVIEW OF GOALS AND WINS. Below score check agrees with dataset and I have spot checked some values. Interestingly there are more away wins (NH) than at home (H)."
   ]
  },
  {
   "cell_type": "code",
   "execution_count": 41,
   "id": "516ae2e2",
   "metadata": {},
   "outputs": [
    {
     "data": {
      "text/plain": [
       "1    2185\n",
       "2    1698\n",
       "0    1596\n",
       "3     839\n",
       "4     347\n",
       "5     114\n",
       "6      42\n",
       "7      13\n",
       "8       5\n",
       "9       1\n",
       "Name: FTHG, dtype: int64"
      ]
     },
     "execution_count": 41,
     "metadata": {},
     "output_type": "execute_result"
    }
   ],
   "source": [
    "df['FTHG'].value_counts(ascending=False)"
   ]
  },
  {
   "cell_type": "code",
   "execution_count": 42,
   "id": "7aed594f",
   "metadata": {},
   "outputs": [
    {
     "data": {
      "text/plain": [
       "1    2366\n",
       "0    2364\n",
       "2    1294\n",
       "3     566\n",
       "4     190\n",
       "5      42\n",
       "6      17\n",
       "7       1\n",
       "Name: FTAG, dtype: int64"
      ]
     },
     "execution_count": 42,
     "metadata": {},
     "output_type": "execute_result"
    }
   ],
   "source": [
    "df['FTAG'].value_counts(ascending=False)"
   ]
  },
  {
   "cell_type": "code",
   "execution_count": 43,
   "id": "60816038",
   "metadata": {},
   "outputs": [
    {
     "data": {
      "text/plain": [
       "NH    3664\n",
       "H     3176\n",
       "Name: FTR, dtype: int64"
      ]
     },
     "execution_count": 43,
     "metadata": {},
     "output_type": "execute_result"
    }
   ],
   "source": [
    "df['FTR'].value_counts(ascending=False)"
   ]
  },
  {
   "cell_type": "code",
   "execution_count": 44,
   "id": "8383afa1",
   "metadata": {},
   "outputs": [
    {
     "data": {
      "image/png": "[encoded data removed]",
      "text/plain": [
       "<Figure size 360x360 with 1 Axes>"
      ]
     },
     "metadata": {},
     "output_type": "display_data"
    }
   ],
   "source": [
    "sns.catplot(x=\"Points_home\", y=\"FTHG\", kind=\"point\", data=df)\n",
    "plt.title('UK Premier League results 2000 - 2018')\n",
    "plt.xlabel('Points gained')\n",
    "plt.ylabel('Full Time Home Goals scored')\n",
    "sns.set_style('darkgrid')\n",
    "plt.show()\n"
   ]
  },
  {
   "cell_type": "code",
   "execution_count": 45,
   "id": "e5f3bf3e",
   "metadata": {},
   "outputs": [
    {
     "data": {
      "image/png": "[encoded data removed]",
      "text/plain": [
       "<Figure size 360x360 with 1 Axes>"
      ]
     },
     "metadata": {},
     "output_type": "display_data"
    }
   ],
   "source": [
    "sns.catplot(x=\"Points_away\", y=\"FTAG\", kind=\"point\", data=df)\n",
    "plt.title('UK Premier League results 2000 - 2018')\n",
    "plt.xlabel('Points gained')\n",
    "plt.ylabel('Full Time Away Goals scored')\n",
    "plt.show()\n"
   ]
  },
  {
   "cell_type": "code",
   "execution_count": 46,
   "id": "57dc5ba7",
   "metadata": {},
   "outputs": [
    {
     "data": {
      "image/png": "[encoded data removed]",
      "text/plain": [
       "<Figure size 360x360 with 1 Axes>"
      ]
     },
     "metadata": {},
     "output_type": "display_data"
    }
   ],
   "source": [
    "sns.catplot(x=\"Points_home\", y=\"FTHG\", kind=\"box\", data=df)\n",
    "plt.title('UK Premier League results 2000 - 2018')\n",
    "plt.xlabel('Points gained')\n",
    "plt.ylabel('Full Time Home Goals scored')\n",
    "plt.show()\n"
   ]
  },
  {
   "cell_type": "code",
   "execution_count": 47,
   "id": "38e9cc40",
   "metadata": {},
   "outputs": [
    {
     "data": {
      "image/png": "[encoded data removed]",
      "text/plain": [
       "<Figure size 360x360 with 1 Axes>"
      ]
     },
     "metadata": {},
     "output_type": "display_data"
    }
   ],
   "source": [
    "sns.catplot(x=\"Points_away\", y=\"FTAG\", kind=\"box\", data=df)\n",
    "plt.title('UK Premier League results 2000 - 2018')\n",
    "plt.xlabel('Points gained')\n",
    "plt.ylabel('Full Time Away Goals scored')\n",
    "plt.show()\n"
   ]
  },
  {
   "cell_type": "markdown",
   "id": "e18b586d",
   "metadata": {},
   "source": [
    "    Create dataframe from our dictionary"
   ]
  },
  {
   "cell_type": "code",
   "execution_count": 16,
   "id": "be077e08",
   "metadata": {},
   "outputs": [
    {
     "name": "stdout",
     "output_type": "stream",
     "text": [
      "     Season        Club\n",
      "0   2000_01  Man United\n",
      "1   2001_02     Arsenal\n",
      "2   2002_03  Man United\n",
      "3   2003_04     Arsenal\n",
      "4   2004_05     Chelsea\n",
      "5   2005_06     Chelsea\n",
      "6   2006_07  Man United\n",
      "7   2007_08  Man United\n",
      "8   2008_09  Man United\n",
      "9   2009_10     Chelsea\n",
      "10  2010_11  Man United\n",
      "11  2011_12    Man City\n",
      "12  2012_13  Man United\n",
      "13  2013_14    Man City\n",
      "14  2014_15     Chelsea\n",
      "15  2015_16   Leicester\n",
      "16  2016_17     Chelsea\n",
      "17  2017_18    Man City\n"
     ]
    }
   ],
   "source": [
    "data_items = PLW.items()\n",
    "data_list = list(data_items)\n",
    "df1 = pd. DataFrame(data_list) \n",
    "df1.columns =['Season', 'Club']\n",
    "print(df1)\n"
   ]
  },
  {
   "cell_type": "code",
   "execution_count": 18,
   "id": "b70dde6d",
   "metadata": {},
   "outputs": [
    {
     "data": {
      "image/png": "[encoded data removed]",
      "text/plain": [
       "<Figure size 432x288 with 1 Axes>"
      ]
     },
     "metadata": {},
     "output_type": "display_data"
    }
   ],
   "source": [
    "sns.set_theme(style=\"darkgrid\")\n",
    "ax = sns.countplot(x=\"Club\", data=df1)\n"
   ]
  },
  {
   "cell_type": "markdown",
   "id": "92db2794",
   "metadata": {},
   "source": [
    "    During this period the winners were :\n",
    "    Man United 7\n",
    "    Chelsea 5\n",
    "    Man City 3\n",
    "    Arsenal\t2\n",
    "    Leicester 1\n",
    "\n",
    "    Arsenal have been consistent in scoring points but have only won twice in this period. Chelsea who are only 39 points ahead have 3 more titles.\n"
   ]
  },
  {
   "cell_type": "markdown",
   "id": "a9802e6f",
   "metadata": {},
   "source": [
    "    MERGE WITH Transfer data"
   ]
  },
  {
   "cell_type": "code",
   "execution_count": 19,
   "id": "7c97394e",
   "metadata": {},
   "outputs": [],
   "source": [
    "df2=pd.read_csv('Football_transfers_top250-00-19.csv')"
   ]
  },
  {
   "cell_type": "code",
   "execution_count": 21,
   "id": "bb5f2d3d",
   "metadata": {},
   "outputs": [],
   "source": [
    "df2[['Name', 'Position', 'League_to', 'Team_to', 'Season', 'Transfer_fee']]\n",
    "df3=df2[df2['League_to']=='Premier League']\n",
    "df3.sort_values(['Transfer_fee', 'Team_to' ] , ascending=[False, False])\n",
    "top20=df3.nlargest(20, 'Transfer_fee')\n"
   ]
  },
  {
   "cell_type": "code",
   "execution_count": 22,
   "id": "8d636496",
   "metadata": {},
   "outputs": [
    {
     "data": {
      "text/html": [
       "<div>\n",
       "<style scoped>\n",
       "    .dataframe tbody tr th:only-of-type {\n",
       "        vertical-align: middle;\n",
       "    }\n",
       "\n",
       "    .dataframe tbody tr th {\n",
       "        vertical-align: top;\n",
       "    }\n",
       "\n",
       "    .dataframe thead th {\n",
       "        text-align: right;\n",
       "    }\n",
       "</style>\n",
       "<table border=\"1\" class=\"dataframe\">\n",
       "  <thead>\n",
       "    <tr style=\"text-align: right;\">\n",
       "      <th></th>\n",
       "      <th>Transfer_fee</th>\n",
       "    </tr>\n",
       "    <tr>\n",
       "      <th>Team_to</th>\n",
       "      <th></th>\n",
       "    </tr>\n",
       "  </thead>\n",
       "  <tbody>\n",
       "    <tr>\n",
       "      <th>Arsenal</th>\n",
       "      <td>116750000</td>\n",
       "    </tr>\n",
       "    <tr>\n",
       "      <th>Chelsea</th>\n",
       "      <td>181500000</td>\n",
       "    </tr>\n",
       "    <tr>\n",
       "      <th>Liverpool</th>\n",
       "      <td>201300000</td>\n",
       "    </tr>\n",
       "    <tr>\n",
       "      <th>Man City</th>\n",
       "      <td>438300000</td>\n",
       "    </tr>\n",
       "    <tr>\n",
       "      <th>Man Utd</th>\n",
       "      <td>383700000</td>\n",
       "    </tr>\n",
       "  </tbody>\n",
       "</table>\n",
       "</div>"
      ],
      "text/plain": [
       "           Transfer_fee\n",
       "Team_to                \n",
       "Arsenal       116750000\n",
       "Chelsea       181500000\n",
       "Liverpool     201300000\n",
       "Man City      438300000\n",
       "Man Utd       383700000"
      ]
     },
     "execution_count": 22,
     "metadata": {},
     "output_type": "execute_result"
    }
   ],
   "source": [
    "table = pd.pivot_table(top20,index=['Team_to'],values=['Transfer_fee'], aggfunc=np.sum)\n",
    "table\n"
   ]
  },
  {
   "cell_type": "code",
   "execution_count": 23,
   "id": "37cd02ce",
   "metadata": {},
   "outputs": [],
   "source": [
    "result = pd.concat([top20, table], axis=1)"
   ]
  },
  {
   "cell_type": "code",
   "execution_count": 27,
   "id": "f052f4d8",
   "metadata": {},
   "outputs": [
    {
     "data": {
      "text/html": [
       "<div>\n",
       "<style scoped>\n",
       "    .dataframe tbody tr th:only-of-type {\n",
       "        vertical-align: middle;\n",
       "    }\n",
       "\n",
       "    .dataframe tbody tr th {\n",
       "        vertical-align: top;\n",
       "    }\n",
       "\n",
       "    .dataframe thead th {\n",
       "        text-align: right;\n",
       "    }\n",
       "</style>\n",
       "<table border=\"1\" class=\"dataframe\">\n",
       "  <thead>\n",
       "    <tr style=\"text-align: right;\">\n",
       "      <th></th>\n",
       "      <th>Name</th>\n",
       "      <th>Position</th>\n",
       "      <th>Age</th>\n",
       "      <th>Team_from</th>\n",
       "      <th>League_from</th>\n",
       "      <th>Team_to</th>\n",
       "      <th>League_to</th>\n",
       "      <th>Season</th>\n",
       "      <th>Market_value</th>\n",
       "      <th>Transfer_fee</th>\n",
       "    </tr>\n",
       "  </thead>\n",
       "  <tbody>\n",
       "    <tr>\n",
       "      <th>2475</th>\n",
       "      <td>Fernando Torres</td>\n",
       "      <td>Centre-Forward</td>\n",
       "      <td>26.0</td>\n",
       "      <td>Liverpool</td>\n",
       "      <td>Premier League</td>\n",
       "      <td>Chelsea</td>\n",
       "      <td>Premier League</td>\n",
       "      <td>2010-2011</td>\n",
       "      <td>50000000.0</td>\n",
       "      <td>58500000.0</td>\n",
       "    </tr>\n",
       "    <tr>\n",
       "      <th>3469</th>\n",
       "      <td>Ãngel Di MarÃ­a</td>\n",
       "      <td>Right Winger</td>\n",
       "      <td>26.0</td>\n",
       "      <td>Real Madrid</td>\n",
       "      <td>LaLiga</td>\n",
       "      <td>Man Utd</td>\n",
       "      <td>Premier League</td>\n",
       "      <td>2014-2015</td>\n",
       "      <td>50000000.0</td>\n",
       "      <td>75000000.0</td>\n",
       "    </tr>\n",
       "    <tr>\n",
       "      <th>3713</th>\n",
       "      <td>Kevin De Bruyne</td>\n",
       "      <td>Attacking Midfield</td>\n",
       "      <td>24.0</td>\n",
       "      <td>VfL Wolfsburg</td>\n",
       "      <td>1.Bundesliga</td>\n",
       "      <td>Man City</td>\n",
       "      <td>Premier League</td>\n",
       "      <td>2015-2016</td>\n",
       "      <td>45000000.0</td>\n",
       "      <td>76000000.0</td>\n",
       "    </tr>\n",
       "    <tr>\n",
       "      <th>3714</th>\n",
       "      <td>Raheem Sterling</td>\n",
       "      <td>Right Winger</td>\n",
       "      <td>20.0</td>\n",
       "      <td>Liverpool</td>\n",
       "      <td>Premier League</td>\n",
       "      <td>Man City</td>\n",
       "      <td>Premier League</td>\n",
       "      <td>2015-2016</td>\n",
       "      <td>40000000.0</td>\n",
       "      <td>63700000.0</td>\n",
       "    </tr>\n",
       "    <tr>\n",
       "      <th>3716</th>\n",
       "      <td>Anthony Martial</td>\n",
       "      <td>Left Winger</td>\n",
       "      <td>19.0</td>\n",
       "      <td>Monaco</td>\n",
       "      <td>Ligue 1</td>\n",
       "      <td>Man Utd</td>\n",
       "      <td>Premier League</td>\n",
       "      <td>2015-2016</td>\n",
       "      <td>8000000.0</td>\n",
       "      <td>60000000.0</td>\n",
       "    </tr>\n",
       "    <tr>\n",
       "      <th>3961</th>\n",
       "      <td>Paul Pogba</td>\n",
       "      <td>Central Midfield</td>\n",
       "      <td>23.0</td>\n",
       "      <td>Juventus</td>\n",
       "      <td>Serie A</td>\n",
       "      <td>Man Utd</td>\n",
       "      <td>Premier League</td>\n",
       "      <td>2016-2017</td>\n",
       "      <td>70000000.0</td>\n",
       "      <td>105000000.0</td>\n",
       "    </tr>\n",
       "    <tr>\n",
       "      <th>3965</th>\n",
       "      <td>John Stones</td>\n",
       "      <td>Centre-Back</td>\n",
       "      <td>22.0</td>\n",
       "      <td>Everton</td>\n",
       "      <td>Premier League</td>\n",
       "      <td>Man City</td>\n",
       "      <td>Premier League</td>\n",
       "      <td>2016-2017</td>\n",
       "      <td>28000000.0</td>\n",
       "      <td>55600000.0</td>\n",
       "    </tr>\n",
       "    <tr>\n",
       "      <th>4214</th>\n",
       "      <td>Romelu Lukaku</td>\n",
       "      <td>Centre-Forward</td>\n",
       "      <td>24.0</td>\n",
       "      <td>Everton</td>\n",
       "      <td>Premier League</td>\n",
       "      <td>Man Utd</td>\n",
       "      <td>Premier League</td>\n",
       "      <td>2017-2018</td>\n",
       "      <td>50000000.0</td>\n",
       "      <td>84700000.0</td>\n",
       "    </tr>\n",
       "    <tr>\n",
       "      <th>4215</th>\n",
       "      <td>Virgil van Dijk</td>\n",
       "      <td>Centre-Back</td>\n",
       "      <td>26.0</td>\n",
       "      <td>Southampton</td>\n",
       "      <td>Premier League</td>\n",
       "      <td>Liverpool</td>\n",
       "      <td>Premier League</td>\n",
       "      <td>2017-2018</td>\n",
       "      <td>30000000.0</td>\n",
       "      <td>78800000.0</td>\n",
       "    </tr>\n",
       "    <tr>\n",
       "      <th>4217</th>\n",
       "      <td>Ãlvaro Morata</td>\n",
       "      <td>Centre-Forward</td>\n",
       "      <td>24.0</td>\n",
       "      <td>Real Madrid</td>\n",
       "      <td>LaLiga</td>\n",
       "      <td>Chelsea</td>\n",
       "      <td>Premier League</td>\n",
       "      <td>2017-2018</td>\n",
       "      <td>40000000.0</td>\n",
       "      <td>66000000.0</td>\n",
       "    </tr>\n",
       "    <tr>\n",
       "      <th>4218</th>\n",
       "      <td>Aymeric Laporte</td>\n",
       "      <td>Centre-Back</td>\n",
       "      <td>23.0</td>\n",
       "      <td>Athletic Bilbao</td>\n",
       "      <td>LaLiga</td>\n",
       "      <td>Man City</td>\n",
       "      <td>Premier League</td>\n",
       "      <td>2017-2018</td>\n",
       "      <td>25000000.0</td>\n",
       "      <td>65000000.0</td>\n",
       "    </tr>\n",
       "    <tr>\n",
       "      <th>4219</th>\n",
       "      <td>Pierre-Emerick Aubameyang</td>\n",
       "      <td>Centre-Forward</td>\n",
       "      <td>28.0</td>\n",
       "      <td>Bor. Dortmund</td>\n",
       "      <td>1.Bundesliga</td>\n",
       "      <td>Arsenal</td>\n",
       "      <td>Premier League</td>\n",
       "      <td>2017-2018</td>\n",
       "      <td>65000000.0</td>\n",
       "      <td>63750000.0</td>\n",
       "    </tr>\n",
       "    <tr>\n",
       "      <th>4220</th>\n",
       "      <td>Benjamin Mendy</td>\n",
       "      <td>Left-Back</td>\n",
       "      <td>23.0</td>\n",
       "      <td>Monaco</td>\n",
       "      <td>Ligue 1</td>\n",
       "      <td>Man City</td>\n",
       "      <td>Premier League</td>\n",
       "      <td>2017-2018</td>\n",
       "      <td>13000000.0</td>\n",
       "      <td>57500000.0</td>\n",
       "    </tr>\n",
       "    <tr>\n",
       "      <th>4221</th>\n",
       "      <td>Alexandre Lacazette</td>\n",
       "      <td>Centre-Forward</td>\n",
       "      <td>26.0</td>\n",
       "      <td>Olympique Lyon</td>\n",
       "      <td>Ligue 1</td>\n",
       "      <td>Arsenal</td>\n",
       "      <td>Premier League</td>\n",
       "      <td>2017-2018</td>\n",
       "      <td>40000000.0</td>\n",
       "      <td>53000000.0</td>\n",
       "    </tr>\n",
       "    <tr>\n",
       "      <th>4222</th>\n",
       "      <td>Kyle Walker</td>\n",
       "      <td>Right-Back</td>\n",
       "      <td>27.0</td>\n",
       "      <td>Spurs</td>\n",
       "      <td>Premier League</td>\n",
       "      <td>Man City</td>\n",
       "      <td>Premier League</td>\n",
       "      <td>2017-2018</td>\n",
       "      <td>30000000.0</td>\n",
       "      <td>52700000.0</td>\n",
       "    </tr>\n",
       "    <tr>\n",
       "      <th>4458</th>\n",
       "      <td>Riyad Mahrez</td>\n",
       "      <td>Right Winger</td>\n",
       "      <td>27.0</td>\n",
       "      <td>Leicester</td>\n",
       "      <td>Premier League</td>\n",
       "      <td>Man City</td>\n",
       "      <td>Premier League</td>\n",
       "      <td>2018-2019</td>\n",
       "      <td>50000000.0</td>\n",
       "      <td>67800000.0</td>\n",
       "    </tr>\n",
       "    <tr>\n",
       "      <th>4459</th>\n",
       "      <td>Alisson</td>\n",
       "      <td>Goalkeeper</td>\n",
       "      <td>25.0</td>\n",
       "      <td>AS Roma</td>\n",
       "      <td>Serie A</td>\n",
       "      <td>Liverpool</td>\n",
       "      <td>Premier League</td>\n",
       "      <td>2018-2019</td>\n",
       "      <td>60000000.0</td>\n",
       "      <td>62500000.0</td>\n",
       "    </tr>\n",
       "    <tr>\n",
       "      <th>4460</th>\n",
       "      <td>Naby KeÃ¯ta</td>\n",
       "      <td>Central Midfield</td>\n",
       "      <td>23.0</td>\n",
       "      <td>RB Leipzig</td>\n",
       "      <td>1.Bundesliga</td>\n",
       "      <td>Liverpool</td>\n",
       "      <td>Premier League</td>\n",
       "      <td>2018-2019</td>\n",
       "      <td>65000000.0</td>\n",
       "      <td>60000000.0</td>\n",
       "    </tr>\n",
       "    <tr>\n",
       "      <th>4461</th>\n",
       "      <td>Fred</td>\n",
       "      <td>Central Midfield</td>\n",
       "      <td>25.0</td>\n",
       "      <td>Shakhtar D.</td>\n",
       "      <td>Premier Liga</td>\n",
       "      <td>Man Utd</td>\n",
       "      <td>Premier League</td>\n",
       "      <td>2018-2019</td>\n",
       "      <td>32000000.0</td>\n",
       "      <td>59000000.0</td>\n",
       "    </tr>\n",
       "    <tr>\n",
       "      <th>4462</th>\n",
       "      <td>Jorginho</td>\n",
       "      <td>Defensive Midfield</td>\n",
       "      <td>26.0</td>\n",
       "      <td>SSC Napoli</td>\n",
       "      <td>Serie A</td>\n",
       "      <td>Chelsea</td>\n",
       "      <td>Premier League</td>\n",
       "      <td>2018-2019</td>\n",
       "      <td>50000000.0</td>\n",
       "      <td>57000000.0</td>\n",
       "    </tr>\n",
       "  </tbody>\n",
       "</table>\n",
       "</div>"
      ],
      "text/plain": [
       "                           Name            Position   Age        Team_from  \\\n",
       "2475            Fernando Torres      Centre-Forward  26.0        Liverpool   \n",
       "3469           Ãngel Di MarÃ­a        Right Winger  26.0      Real Madrid   \n",
       "3713            Kevin De Bruyne  Attacking Midfield  24.0    VfL Wolfsburg   \n",
       "3714            Raheem Sterling        Right Winger  20.0        Liverpool   \n",
       "3716            Anthony Martial         Left Winger  19.0           Monaco   \n",
       "3961                 Paul Pogba    Central Midfield  23.0         Juventus   \n",
       "3965                John Stones         Centre-Back  22.0          Everton   \n",
       "4214              Romelu Lukaku      Centre-Forward  24.0          Everton   \n",
       "4215            Virgil van Dijk         Centre-Back  26.0      Southampton   \n",
       "4217             Ãlvaro Morata      Centre-Forward  24.0      Real Madrid   \n",
       "4218            Aymeric Laporte         Centre-Back  23.0  Athletic Bilbao   \n",
       "4219  Pierre-Emerick Aubameyang      Centre-Forward  28.0    Bor. Dortmund   \n",
       "4220             Benjamin Mendy           Left-Back  23.0           Monaco   \n",
       "4221        Alexandre Lacazette      Centre-Forward  26.0   Olympique Lyon   \n",
       "4222                Kyle Walker          Right-Back  27.0            Spurs   \n",
       "4458               Riyad Mahrez        Right Winger  27.0        Leicester   \n",
       "4459                    Alisson          Goalkeeper  25.0          AS Roma   \n",
       "4460                Naby KeÃ¯ta    Central Midfield  23.0       RB Leipzig   \n",
       "4461                       Fred    Central Midfield  25.0      Shakhtar D.   \n",
       "4462                   Jorginho  Defensive Midfield  26.0       SSC Napoli   \n",
       "\n",
       "         League_from    Team_to       League_to     Season  Market_value  \\\n",
       "2475  Premier League    Chelsea  Premier League  2010-2011    50000000.0   \n",
       "3469          LaLiga    Man Utd  Premier League  2014-2015    50000000.0   \n",
       "3713    1.Bundesliga   Man City  Premier League  2015-2016    45000000.0   \n",
       "3714  Premier League   Man City  Premier League  2015-2016    40000000.0   \n",
       "3716         Ligue 1    Man Utd  Premier League  2015-2016     8000000.0   \n",
       "3961         Serie A    Man Utd  Premier League  2016-2017    70000000.0   \n",
       "3965  Premier League   Man City  Premier League  2016-2017    28000000.0   \n",
       "4214  Premier League    Man Utd  Premier League  2017-2018    50000000.0   \n",
       "4215  Premier League  Liverpool  Premier League  2017-2018    30000000.0   \n",
       "4217          LaLiga    Chelsea  Premier League  2017-2018    40000000.0   \n",
       "4218          LaLiga   Man City  Premier League  2017-2018    25000000.0   \n",
       "4219    1.Bundesliga    Arsenal  Premier League  2017-2018    65000000.0   \n",
       "4220         Ligue 1   Man City  Premier League  2017-2018    13000000.0   \n",
       "4221         Ligue 1    Arsenal  Premier League  2017-2018    40000000.0   \n",
       "4222  Premier League   Man City  Premier League  2017-2018    30000000.0   \n",
       "4458  Premier League   Man City  Premier League  2018-2019    50000000.0   \n",
       "4459         Serie A  Liverpool  Premier League  2018-2019    60000000.0   \n",
       "4460    1.Bundesliga  Liverpool  Premier League  2018-2019    65000000.0   \n",
       "4461    Premier Liga    Man Utd  Premier League  2018-2019    32000000.0   \n",
       "4462         Serie A    Chelsea  Premier League  2018-2019    50000000.0   \n",
       "\n",
       "      Transfer_fee  \n",
       "2475    58500000.0  \n",
       "3469    75000000.0  \n",
       "3713    76000000.0  \n",
       "3714    63700000.0  \n",
       "3716    60000000.0  \n",
       "3961   105000000.0  \n",
       "3965    55600000.0  \n",
       "4214    84700000.0  \n",
       "4215    78800000.0  \n",
       "4217    66000000.0  \n",
       "4218    65000000.0  \n",
       "4219    63750000.0  \n",
       "4220    57500000.0  \n",
       "4221    53000000.0  \n",
       "4222    52700000.0  \n",
       "4458    67800000.0  \n",
       "4459    62500000.0  \n",
       "4460    60000000.0  \n",
       "4461    59000000.0  \n",
       "4462    57000000.0  "
      ]
     },
     "execution_count": 27,
     "metadata": {},
     "output_type": "execute_result"
    }
   ],
   "source": [
    "result1=result.iloc[:, 0:10]\n",
    "result1.dropna()\n"
   ]
  },
  {
   "cell_type": "markdown",
   "id": "d3f1f506",
   "metadata": {},
   "source": [
    "    Above are top 20 transfers by club in the period under review."
   ]
  },
  {
   "cell_type": "code",
   "execution_count": 29,
   "id": "8061dd28",
   "metadata": {},
   "outputs": [
    {
     "data": {
      "image/png": "[encoded data removed]",
      "text/plain": [
       "<Figure size 432x288 with 1 Axes>"
      ]
     },
     "metadata": {},
     "output_type": "display_data"
    }
   ],
   "source": [
    "fig, ax=plt.subplots()\n",
    "ax.scatter(top20['Team_to'], top20['Transfer_fee'])\n",
    "ax.set_ylabel('Transfer fee 100s m')\n",
    "plt.show()\n"
   ]
  },
  {
   "cell_type": "code",
   "execution_count": 30,
   "id": "db16f2e5",
   "metadata": {},
   "outputs": [
    {
     "data": {
      "text/plain": [
       "<function matplotlib.pyplot.show(close=None, block=None)>"
      ]
     },
     "execution_count": 30,
     "metadata": {},
     "output_type": "execute_result"
    },
    {
     "data": {
      "image/png": "[encoded data removed]",
      "text/plain": [
       "<Figure size 1080x216 with 5 Axes>"
      ]
     },
     "metadata": {},
     "output_type": "display_data"
    }
   ],
   "source": [
    "g=sns.FacetGrid(top20, col='Team_to')\n",
    "g.map(sns.boxplot, 'Transfer_fee', order=[1,2,3,4])\n",
    "plt.show\n"
   ]
  },
  {
   "cell_type": "code",
   "execution_count": 31,
   "id": "efffa499",
   "metadata": {},
   "outputs": [
    {
     "data": {
      "text/html": [
       "<div>\n",
       "<style scoped>\n",
       "    .dataframe tbody tr th:only-of-type {\n",
       "        vertical-align: middle;\n",
       "    }\n",
       "\n",
       "    .dataframe tbody tr th {\n",
       "        vertical-align: top;\n",
       "    }\n",
       "\n",
       "    .dataframe thead th {\n",
       "        text-align: right;\n",
       "    }\n",
       "</style>\n",
       "<table border=\"1\" class=\"dataframe\">\n",
       "  <thead>\n",
       "    <tr style=\"text-align: right;\">\n",
       "      <th>Season</th>\n",
       "      <th>2010-2011</th>\n",
       "      <th>2014-2015</th>\n",
       "      <th>2015-2016</th>\n",
       "      <th>2016-2017</th>\n",
       "      <th>2017-2018</th>\n",
       "      <th>2018-2019</th>\n",
       "    </tr>\n",
       "    <tr>\n",
       "      <th>Team_to</th>\n",
       "      <th></th>\n",
       "      <th></th>\n",
       "      <th></th>\n",
       "      <th></th>\n",
       "      <th></th>\n",
       "      <th></th>\n",
       "    </tr>\n",
       "  </thead>\n",
       "  <tbody>\n",
       "    <tr>\n",
       "      <th>Arsenal</th>\n",
       "      <td>NaN</td>\n",
       "      <td>NaN</td>\n",
       "      <td>NaN</td>\n",
       "      <td>NaN</td>\n",
       "      <td>58375000.0</td>\n",
       "      <td>NaN</td>\n",
       "    </tr>\n",
       "    <tr>\n",
       "      <th>Chelsea</th>\n",
       "      <td>58500000.0</td>\n",
       "      <td>NaN</td>\n",
       "      <td>NaN</td>\n",
       "      <td>NaN</td>\n",
       "      <td>66000000.0</td>\n",
       "      <td>57000000.0</td>\n",
       "    </tr>\n",
       "    <tr>\n",
       "      <th>Liverpool</th>\n",
       "      <td>NaN</td>\n",
       "      <td>NaN</td>\n",
       "      <td>NaN</td>\n",
       "      <td>NaN</td>\n",
       "      <td>78800000.0</td>\n",
       "      <td>61250000.0</td>\n",
       "    </tr>\n",
       "    <tr>\n",
       "      <th>Man City</th>\n",
       "      <td>NaN</td>\n",
       "      <td>NaN</td>\n",
       "      <td>69850000.0</td>\n",
       "      <td>55600000.0</td>\n",
       "      <td>58400000.0</td>\n",
       "      <td>67800000.0</td>\n",
       "    </tr>\n",
       "    <tr>\n",
       "      <th>Man Utd</th>\n",
       "      <td>NaN</td>\n",
       "      <td>75000000.0</td>\n",
       "      <td>60000000.0</td>\n",
       "      <td>105000000.0</td>\n",
       "      <td>84700000.0</td>\n",
       "      <td>59000000.0</td>\n",
       "    </tr>\n",
       "  </tbody>\n",
       "</table>\n",
       "</div>"
      ],
      "text/plain": [
       "Season      2010-2011   2014-2015   2015-2016    2016-2017   2017-2018  \\\n",
       "Team_to                                                                  \n",
       "Arsenal           NaN         NaN         NaN          NaN  58375000.0   \n",
       "Chelsea    58500000.0         NaN         NaN          NaN  66000000.0   \n",
       "Liverpool         NaN         NaN         NaN          NaN  78800000.0   \n",
       "Man City          NaN         NaN  69850000.0   55600000.0  58400000.0   \n",
       "Man Utd           NaN  75000000.0  60000000.0  105000000.0  84700000.0   \n",
       "\n",
       "Season      2018-2019  \n",
       "Team_to                \n",
       "Arsenal           NaN  \n",
       "Chelsea    57000000.0  \n",
       "Liverpool  61250000.0  \n",
       "Man City   67800000.0  \n",
       "Man Utd    59000000.0  "
      ]
     },
     "execution_count": 31,
     "metadata": {},
     "output_type": "execute_result"
    }
   ],
   "source": [
    "pd.crosstab(top20['Team_to'], top20['Season'], \n",
    "            values=top20['Transfer_fee'],aggfunc='mean').round(0)\n"
   ]
  },
  {
   "cell_type": "code",
   "execution_count": 32,
   "id": "52fc5b0d",
   "metadata": {},
   "outputs": [
    {
     "data": {
      "text/plain": [
       "<AxesSubplot:xlabel='Season', ylabel='Position'>"
      ]
     },
     "execution_count": 32,
     "metadata": {},
     "output_type": "execute_result"
    },
    {
     "data": {
      "image/png": "[encoded data removed]",
      "text/plain": [
       "<Figure size 432x288 with 2 Axes>"
      ]
     },
     "metadata": {},
     "output_type": "display_data"
    }
   ],
   "source": [
    "sns.heatmap(pd.crosstab(df2['Position'], df2['Season'], \n",
    "            values=df2['Transfer_fee'], aggfunc='mean'))\n"
   ]
  },
  {
   "cell_type": "markdown",
   "id": "8cb3a8bc",
   "metadata": {},
   "source": [
    "    Here we see a simple scatter plot of what teams succeeded in each season"
   ]
  },
  {
   "cell_type": "code",
   "execution_count": 33,
   "id": "c5c98ab9",
   "metadata": {},
   "outputs": [
    {
     "data": {
      "text/plain": [
       "<matplotlib.collections.PathCollection at 0x7f6262efa390>"
      ]
     },
     "execution_count": 33,
     "metadata": {},
     "output_type": "execute_result"
    },
    {
     "data": {
      "image/png": "[encoded data removed]",
      "text/plain": [
       "<Figure size 432x288 with 1 Axes>"
      ]
     },
     "metadata": {},
     "output_type": "display_data"
    }
   ],
   "source": [
    "keys=PLW.keys()\n",
    "values=PLW.values()\n",
    "plt.scatter(values, keys)\n"
   ]
  },
  {
   "cell_type": "code",
   "execution_count": 34,
   "id": "941cb687",
   "metadata": {},
   "outputs": [
    {
     "data": {
      "text/plain": [
       "<seaborn.axisgrid.FacetGrid at 0x7f626b308e48>"
      ]
     },
     "execution_count": 34,
     "metadata": {},
     "output_type": "execute_result"
    },
    {
     "data": {
      "image/png": "[encoded data removed]",
      "text/plain": [
       "<Figure size 459.6x360 with 1 Axes>"
      ]
     },
     "metadata": {},
     "output_type": "display_data"
    }
   ],
   "source": [
    "sns.relplot(data=top20, y=\"Transfer_fee\", x=\"Team_to\", hue=\"Season\")"
   ]
  },
  {
   "cell_type": "markdown",
   "id": "39ef5b91",
   "metadata": {},
   "source": [
    "As we can see the consistently successful teams have spent most. \n",
    "\n",
    "INSIGHTS:\n",
    "More away wins than at home is very interesting.\n",
    "1. It shows for the away team to win (3 points) they mostly achieved this by scoring just the one goal. So there is truth to the adage \"keep it tight away from home and try and nick a goal\" Conversely, although Home team sides win scoring more as we saw earlier, overall teams are winning less at home than they are away from home.\n",
    "2. Perhaps coming away from figures for a moment, the home team buoyed by their supporters play with more abandon but also with less care. Players away from home are able to concentrate better on just the match. They have no ties to staff, supporters at the match location and so on. They have less emotional pressure on them to win.\n",
    "3. When a team wins away from home they are mainly doing so by scoring few goals. However, the home team tends to score a lot more goals. \n",
    "These big wins cloud many peoples jugdement because the consensus is teams should win away from home. \n",
    "However, the figures suggest otherwise!\n",
    "4. The advice to football management would be that a rebalancing is required for more or continued success. Teams at home should be attack minded and confident but must ensure they don't commit too many men forward. It must be impressed on the back four and midfielders that they must provide defensive cover. The ball can travel faster than any player so if too many players are out of position an astute long ball can put the offence in on goal. \n",
    "Out of position players are powerless to do anything.\n",
    "\n",
    "“It was Paisley’s judgement that Hansen was good enough and intelligent enough for the side and that a quiet word would suffice…… he pulled Hansen aside and put an arm on his shoulder. ‘Look lad, I know I’m getting on a bit but I’m still too young to have a heart attack. Just watch it will you?’\n",
    "The boot room also decided that Hansen wasn’t strong enough. They saw to it that Hansen put on two stones of weight under what they called the ‘Anfield diet’.”\n",
    "P. 167. Quiet Genius, Bob Paisley, British Football’s Greatest Manager.\n",
    "\n",
    "5. Activity on the transfer market is not surprising. The successful teams draw support and revenue which gives them the opportunity of investing in their team. In modern football we see more injection of revenue from avenues other than traditional gate receipts. Some clubs also are willing to run large deficits to bolster their chances.\n",
    "More analysis is required because we are looking at global figures. There is a different story for each club. \n",
    "Analysis can certainly point out flaws and oportunities for improvement, but after that football leans more towards art than science.\n"
   ]
  },
  {
   "cell_type": "markdown",
   "id": "a653a00a",
   "metadata": {},
   "source": [
    "Q7. \n",
    "PREDICTING FOOTBALL RESULTS \n",
    "\n",
    "In order to try and predict football results I would consider using logistic regression which is a statistical model used for classification. Classification means dealing with categorical variables to predict. In the case of predicting who will win a match, in the case of football, you will have three classes: the home team wins, the away team wins or it is a draw.\n",
    "\n",
    "Logistic regression being a model for two classes (0 when the event has not realized and 1 the event realized). To predict the winner of the football match, we will need three models, each of them will predict a different event. One for the home team to win, one for the way team to win, and one for the draw.\n",
    "The logistic regression model can be explained using probabilities but you can also see it as a model to predict 0 and 1. In fact, the prediction is not perfect and falls into the range {0,1} in such a way that they can be interpreted as the probability that the event realizes (prediction close to 1) or the event does not realize (prediction close to 0). \n",
    "\n",
    "We already know we need to train three logistic models with a binary target y that represents the match results. For instance, for the “draw model”, the target is 1 if the match result is a draw else it is 0. \n",
    "\n",
    "We do not need to explicitly set three models as scikit-learn LogisticRegression will do it for us by specifying the right options. \n",
    "\n",
    "So y will be represented in three classes depending on the outcomes. To represent the teams, we will use a one-hot encoder.\n",
    "\n",
    "Assume we have a league with 20 teams playing home and away. Each team is encoded in a vector of length 40 where each entry can take a value of 1 or 0. The 20 first entries represent the home teams and the 20 left the away teams. Then to encode a match between two teams we just have to put the 1s at the right place. Using scikit-learn that step can be done easily.\n",
    "\n",
    "We need to factor in regularization to help to reduce the strength and the weakness of strong and weak teams. For instance, if a team always wins the model will be tempted to associate a very large coefficient to that team and lead to over-optimistic prediction.\n",
    "\n",
    "Testing the model over time and for different leagues/sports one would hope to improve accuracy.\n",
    "\n"
   ]
  },
  {
   "cell_type": "code",
   "execution_count": null,
   "id": "02ae6fe4",
   "metadata": {},
   "outputs": [],
   "source": []
  },
  {
   "cell_type": "code",
   "execution_count": null,
   "id": "be956717",
   "metadata": {},
   "outputs": [],
   "source": []
  },
  {
   "cell_type": "code",
   "execution_count": null,
   "id": "1581f14b",
   "metadata": {},
   "outputs": [],
   "source": []
  }
 ],
 "metadata": {
  "kernelspec": {
   "display_name": "Python 3",
   "language": "python",
   "name": "python3"
  },
  "language_info": {
   "codemirror_mode": {
    "name": "ipython",
    "version": 3
   },
   "file_extension": ".py",
   "mimetype": "text/x-python",
   "name": "python",
   "nbconvert_exporter": "python",
   "pygments_lexer": "ipython3",
   "version": "3.6.15"
  }
 },
 "nbformat": 4,
 "nbformat_minor": 5
}
