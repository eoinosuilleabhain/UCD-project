{
 "cells": [
  {
   "cell_type": "markdown",
   "id": "c5ccdf96",
   "metadata": {},
   "source": [
    "    WEB SCRAPING (works but an 'error msg' on bottom line"
   ]
  },
  {
   "cell_type": "code",
   "execution_count": 2,
   "id": "0d440bf7",
   "metadata": {},
   "outputs": [],
   "source": [
    "import requests\n",
    "from bs4 import BeautifulSoup as bs\n",
    "import csv\n",
    "import re"
   ]
  },
  {
   "cell_type": "code",
   "execution_count": 3,
   "id": "1dbeeaa1",
   "metadata": {},
   "outputs": [],
   "source": [
    "def data_to_csv(data):\n",
    "    keys = data[0].keys()\n",
    "    with open('data.csv', 'w', newline='')  as output_file:\n",
    "        dict_writer = csv.DictWriter(output_file, keys)\n",
    "        dict_writer.writeheader()\n",
    "        dict_writer.writerows(data)"
   ]
  },
  {
   "cell_type": "code",
   "execution_count": 4,
   "id": "6cf27428",
   "metadata": {},
   "outputs": [],
   "source": [
    "def format_currency(value):\n",
    "    value = value.replace('€', '')\n",
    "    value = value.replace('Loan fee:', '')\n",
    "    \n",
    "    if value[-1] == 'm':\n",
    "        value = value.replace('m', '')\n",
    "        return int(float(value)) * 1000000\n",
    "\n",
    "    if value[-1] == '.':\n",
    "        value = value.replace('.', '')\n",
    "        if value[-2:] == 'Th':\n",
    "            value = value.replace('Th', '')\n",
    "            return int(value) * 1000\n",
    "    \n",
    "    return value"
   ]
  },
  {
   "cell_type": "code",
   "execution_count": 5,
   "id": "9d07f7b7",
   "metadata": {},
   "outputs": [],
   "source": [
    "def get_data(pages):\n",
    "    players_list = []\n",
    "    for page in range(1, pages+1):\n",
    "        headers = {\"User-Agent\":\"Mozilla/5.0 (Macintosh; Intel Mac OS X 10_15_4) AppleWebKit/537.36 (KHTML, like Gecko) Chrome/83.0.4103.97 Safari/537.36\"}\n",
    "\n",
    "        url  = f'https://www.transfermarkt.com/transfers/saisontransfers/statistik?ajax=yw0&altersklasse=&ausrichtung=&land_id=0&leihe=&page={page}&plus=1&saison-id=2020&spielerposition_id=&transferfenster='\n",
    "\n",
    "        print(url)\n",
    "\n",
    "        html = requests.get(url, headers=headers)\n",
    "        soup = bs(html.content)\n",
    "\n",
    "        soup = soup.select('.responsive-table > .grid-view > .items > tbody')[0]\n",
    "\n",
    "        try:\n",
    "            for cells in soup.find_all(True, {\"class\": re.compile(\"^(even|odd)$\")}):\n",
    "                fee = cells.find_all('td')[16].text\n",
    "                position = cells.find_all('td')[4].text\n",
    "                age = cells.find_all('td')[5].text\n",
    "                market_value = cells.find_all('td')[6].text\n",
    "                country_from = cells.find_all('td')[11].img['title']\n",
    "                league_from = cells.find_all('td')[11].a.text if cells.find_all('td')[11].a != None else 'Without League'\n",
    "                club_from = cells.find_all('td')[9].img['alt']\n",
    "                country_to = cells.find_all('td')[15].img['alt']\n",
    "                league_to = cells.find_all('td')[15].a.text if cells.find_all('td')[15].a != None else 'Without League'\n",
    "                club_to = cells.find_all('td')[13].img['alt']\n",
    "\n",
    "                player = {\n",
    "                    'name': cells.find_all('td')[1].select('td > img')[0]['title'],\n",
    "                    'position': position,\n",
    "                    'age': age,\n",
    "                    'market_value': format_currency(market_value),\n",
    "                    'country_from': country_from,\n",
    "                    'league_from': format_text(league_from),\n",
    "                    'club_from': club_from,\n",
    "                    'country_to': country_to,\n",
    "                    'league_to': format_text(league_to),\n",
    "                    'club_to': club_to,\n",
    "                    'fee': format_currency(fee),\n",
    "                }\n",
    "\n",
    "                players_list.append(player)\n",
    "        except IndexError:\n",
    "            pass\n",
    "\n",
    "    return players_list"
   ]
  },
  {
   "cell_type": "code",
   "execution_count": 7,
   "id": "bbb6a769",
   "metadata": {
    "scrolled": true
   },
   "outputs": [
    {
     "name": "stdout",
     "output_type": "stream",
     "text": [
      "https://www.transfermarkt.com/transfers/saisontransfers/statistik?ajax=yw0&altersklasse=&ausrichtung=&land_id=0&leihe=&page=1&plus=1&saison-id=2020&spielerposition_id=&transferfenster=\n"
     ]
    },
    {
     "ename": "NameError",
     "evalue": "name 'format_text' is not defined",
     "output_type": "error",
     "traceback": [
      "\u001b[0;31m---------------------------------------------------------------------------\u001b[0m",
      "\u001b[0;31mNameError\u001b[0m                                 Traceback (most recent call last)",
      "\u001b[0;32m<ipython-input-7-763c80b048d7>\u001b[0m in \u001b[0;36m<module>\u001b[0;34m\u001b[0m\n\u001b[0;32m----> 1\u001b[0;31m \u001b[0mdata\u001b[0m \u001b[0;34m=\u001b[0m \u001b[0mget_data\u001b[0m\u001b[0;34m(\u001b[0m\u001b[0;36m10\u001b[0m\u001b[0;34m)\u001b[0m\u001b[0;34m\u001b[0m\u001b[0;34m\u001b[0m\u001b[0m\n\u001b[0m\u001b[1;32m      2\u001b[0m \u001b[0mdata_to_csv\u001b[0m\u001b[0;34m(\u001b[0m\u001b[0mdata\u001b[0m\u001b[0;34m)\u001b[0m\u001b[0;34m\u001b[0m\u001b[0;34m\u001b[0m\u001b[0m\n",
      "\u001b[0;32m<ipython-input-5-3876e916b956>\u001b[0m in \u001b[0;36mget_data\u001b[0;34m(pages)\u001b[0m\n\u001b[1;32m     32\u001b[0m                     \u001b[0;34m'market_value'\u001b[0m\u001b[0;34m:\u001b[0m \u001b[0mformat_currency\u001b[0m\u001b[0;34m(\u001b[0m\u001b[0mmarket_value\u001b[0m\u001b[0;34m)\u001b[0m\u001b[0;34m,\u001b[0m\u001b[0;34m\u001b[0m\u001b[0;34m\u001b[0m\u001b[0m\n\u001b[1;32m     33\u001b[0m                     \u001b[0;34m'country_from'\u001b[0m\u001b[0;34m:\u001b[0m \u001b[0mcountry_from\u001b[0m\u001b[0;34m,\u001b[0m\u001b[0;34m\u001b[0m\u001b[0;34m\u001b[0m\u001b[0m\n\u001b[0;32m---> 34\u001b[0;31m                     \u001b[0;34m'league_from'\u001b[0m\u001b[0;34m:\u001b[0m \u001b[0mformat_text\u001b[0m\u001b[0;34m(\u001b[0m\u001b[0mleague_from\u001b[0m\u001b[0;34m)\u001b[0m\u001b[0;34m,\u001b[0m\u001b[0;34m\u001b[0m\u001b[0;34m\u001b[0m\u001b[0m\n\u001b[0m\u001b[1;32m     35\u001b[0m                     \u001b[0;34m'club_from'\u001b[0m\u001b[0;34m:\u001b[0m \u001b[0mclub_from\u001b[0m\u001b[0;34m,\u001b[0m\u001b[0;34m\u001b[0m\u001b[0;34m\u001b[0m\u001b[0m\n\u001b[1;32m     36\u001b[0m                     \u001b[0;34m'country_to'\u001b[0m\u001b[0;34m:\u001b[0m \u001b[0mcountry_to\u001b[0m\u001b[0;34m,\u001b[0m\u001b[0;34m\u001b[0m\u001b[0;34m\u001b[0m\u001b[0m\n",
      "\u001b[0;31mNameError\u001b[0m: name 'format_text' is not defined"
     ]
    }
   ],
   "source": [
    "data = get_data(10)\n",
    "data_to_csv(data)"
   ]
  },
  {
   "cell_type": "code",
   "execution_count": null,
   "id": "9a4b89b7",
   "metadata": {},
   "outputs": [],
   "source": []
  },
  {
   "cell_type": "code",
   "execution_count": null,
   "id": "63792480",
   "metadata": {},
   "outputs": [],
   "source": []
  },
  {
   "cell_type": "code",
   "execution_count": null,
   "id": "d6be05ce",
   "metadata": {},
   "outputs": [],
   "source": []
  },
  {
   "cell_type": "code",
   "execution_count": null,
   "id": "adfd1bf5",
   "metadata": {},
   "outputs": [],
   "source": []
  }
 ],
 "metadata": {
  "kernelspec": {
   "display_name": "Python 3",
   "language": "python",
   "name": "python3"
  },
  "language_info": {
   "codemirror_mode": {
    "name": "ipython",
    "version": 3
   },
   "file_extension": ".py",
   "mimetype": "text/x-python",
   "name": "python",
   "nbconvert_exporter": "python",
   "pygments_lexer": "ipython3",
   "version": "3.6.15"
  }
 },
 "nbformat": 4,
 "nbformat_minor": 5
}
